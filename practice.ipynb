{
 "cells": [
  {
   "cell_type": "code",
   "execution_count": 7,
   "metadata": {},
   "outputs": [
    {
     "name": "stdout",
     "output_type": "stream",
     "text": [
      "values 0 1\n",
      "remain 5\n",
      "dic {1: 0}\n",
      "values 1 4\n",
      "remain 2\n",
      "dic {1: 0, 4: 1}\n",
      "values 2 3\n",
      "remain 3\n",
      "dic {1: 0, 4: 1, 3: 2}\n",
      "values 3 2\n",
      "remain 4\n"
     ]
    },
    {
     "data": {
      "text/plain": [
       "[3, 1]"
      ]
     },
     "execution_count": 7,
     "metadata": {},
     "output_type": "execute_result"
    }
   ],
   "source": [
    "def twoSum(nums: list[int], target: int) -> list[int]:\n",
    "    dic = {}\n",
    "    for k,v in enumerate(nums):\n",
    "        print(\"values\",k,v)\n",
    "        remain = target - v\n",
    "        print(\"remain\", remain)\n",
    "        if remain in dic:\n",
    "            return [k,dic[remain]]\n",
    "        dic[v] = k \n",
    "        print(\"dic\",dic) \n",
    "\n",
    "twoSum([1,4,3,2],6)"
   ]
  },
  {
   "cell_type": "code",
   "execution_count": 21,
   "metadata": {},
   "outputs": [
    {
     "data": {
      "text/plain": [
       "2.5"
      ]
     },
     "execution_count": 21,
     "metadata": {},
     "output_type": "execute_result"
    }
   ],
   "source": [
    "import math\n",
    "def findMedianSortedArrays(nums1: list[int], nums2: list[int]) -> float:\n",
    "    nums1.extend(nums2)\n",
    "    nums1.sort()\n",
    "    length = len(nums1)\n",
    "    if length %2 == 0:\n",
    "        res = (nums1[int(length/2)] + nums1[int(length/2)-1])/2\n",
    "    else :\n",
    "        res = nums1[int(length/2)]\n",
    "    return res\n",
    "\n",
    "findMedianSortedArrays([1,2],[3,4])"
   ]
  },
  {
   "cell_type": "code",
   "execution_count": 7,
   "metadata": {},
   "outputs": [
    {
     "name": "stdout",
     "output_type": "stream",
     "text": [
      "i 0\n",
      "j 1\n",
      "res 1\n",
      "vol [1]\n",
      "j 2\n",
      "res 1\n",
      "vol [1, 2]\n",
      "j 3\n",
      "res 1\n",
      "vol [1, 2, 3]\n",
      "j 4\n",
      "res 1\n",
      "vol [1, 2, 3, 4]\n",
      "j 5\n",
      "res 1\n",
      "vol [1, 2, 3, 4, 5]\n",
      "j 6\n",
      "res 1\n",
      "vol [1, 2, 3, 4, 5, 6]\n",
      "j 7\n",
      "res 1\n",
      "vol [1, 2, 3, 4, 5, 6, 7]\n",
      "j 8\n",
      "res 1\n",
      "vol [1, 2, 3, 4, 5, 6, 7, 8]\n",
      "i 1\n",
      "j 1\n",
      "res 8\n",
      "vol [1, 2, 3, 4, 5, 6, 7, 8, 0]\n",
      "j 2\n",
      "res 6\n",
      "vol [1, 2, 3, 4, 5, 6, 7, 8, 0, 6]\n",
      "j 3\n",
      "res 2\n",
      "vol [1, 2, 3, 4, 5, 6, 7, 8, 0, 6, 4]\n",
      "j 4\n",
      "res 5\n",
      "vol [1, 2, 3, 4, 5, 6, 7, 8, 0, 6, 4, 15]\n",
      "j 5\n",
      "res 4\n",
      "vol [1, 2, 3, 4, 5, 6, 7, 8, 0, 6, 4, 15, 16]\n",
      "j 6\n",
      "res 8\n",
      "vol [1, 2, 3, 4, 5, 6, 7, 8, 0, 6, 4, 15, 16, 40]\n",
      "j 7\n",
      "res 3\n",
      "vol [1, 2, 3, 4, 5, 6, 7, 8, 0, 6, 4, 15, 16, 40, 18]\n",
      "j 8\n",
      "res 7\n",
      "vol [1, 2, 3, 4, 5, 6, 7, 8, 0, 6, 4, 15, 16, 40, 18, 49]\n",
      "i 2\n",
      "j 1\n",
      "res 6\n",
      "vol [1, 2, 3, 4, 5, 6, 7, 8, 0, 6, 4, 15, 16, 40, 18, 49, 6]\n",
      "j 2\n",
      "res 6\n",
      "vol [1, 2, 3, 4, 5, 6, 7, 8, 0, 6, 4, 15, 16, 40, 18, 49, 6, 0]\n",
      "j 3\n",
      "res 2\n",
      "vol [1, 2, 3, 4, 5, 6, 7, 8, 0, 6, 4, 15, 16, 40, 18, 49, 6, 0, 2]\n",
      "j 4\n",
      "res 5\n",
      "vol [1, 2, 3, 4, 5, 6, 7, 8, 0, 6, 4, 15, 16, 40, 18, 49, 6, 0, 2, 10]\n",
      "j 5\n",
      "res 4\n",
      "vol [1, 2, 3, 4, 5, 6, 7, 8, 0, 6, 4, 15, 16, 40, 18, 49, 6, 0, 2, 10, 12]\n",
      "j 6\n",
      "res 6\n",
      "vol [1, 2, 3, 4, 5, 6, 7, 8, 0, 6, 4, 15, 16, 40, 18, 49, 6, 0, 2, 10, 12, 24]\n",
      "j 7\n",
      "res 3\n",
      "vol [1, 2, 3, 4, 5, 6, 7, 8, 0, 6, 4, 15, 16, 40, 18, 49, 6, 0, 2, 10, 12, 24, 15]\n",
      "j 8\n",
      "res 6\n",
      "vol [1, 2, 3, 4, 5, 6, 7, 8, 0, 6, 4, 15, 16, 40, 18, 49, 6, 0, 2, 10, 12, 24, 15, 36]\n",
      "i 3\n",
      "j 1\n",
      "res 2\n",
      "vol [1, 2, 3, 4, 5, 6, 7, 8, 0, 6, 4, 15, 16, 40, 18, 49, 6, 0, 2, 10, 12, 24, 15, 36, 4]\n",
      "j 2\n",
      "res 2\n",
      "vol [1, 2, 3, 4, 5, 6, 7, 8, 0, 6, 4, 15, 16, 40, 18, 49, 6, 0, 2, 10, 12, 24, 15, 36, 4, 2]\n",
      "j 3\n",
      "res 2\n",
      "vol [1, 2, 3, 4, 5, 6, 7, 8, 0, 6, 4, 15, 16, 40, 18, 49, 6, 0, 2, 10, 12, 24, 15, 36, 4, 2, 0]\n",
      "j 4\n",
      "res 2\n",
      "vol [1, 2, 3, 4, 5, 6, 7, 8, 0, 6, 4, 15, 16, 40, 18, 49, 6, 0, 2, 10, 12, 24, 15, 36, 4, 2, 0, 2]\n",
      "j 5\n",
      "res 2\n",
      "vol [1, 2, 3, 4, 5, 6, 7, 8, 0, 6, 4, 15, 16, 40, 18, 49, 6, 0, 2, 10, 12, 24, 15, 36, 4, 2, 0, 2, 4]\n",
      "j 6\n",
      "res 2\n",
      "vol [1, 2, 3, 4, 5, 6, 7, 8, 0, 6, 4, 15, 16, 40, 18, 49, 6, 0, 2, 10, 12, 24, 15, 36, 4, 2, 0, 2, 4, 6]\n",
      "j 7\n",
      "res 2\n",
      "vol [1, 2, 3, 4, 5, 6, 7, 8, 0, 6, 4, 15, 16, 40, 18, 49, 6, 0, 2, 10, 12, 24, 15, 36, 4, 2, 0, 2, 4, 6, 8]\n",
      "j 8\n",
      "res 2\n",
      "vol [1, 2, 3, 4, 5, 6, 7, 8, 0, 6, 4, 15, 16, 40, 18, 49, 6, 0, 2, 10, 12, 24, 15, 36, 4, 2, 0, 2, 4, 6, 8, 10]\n",
      "i 4\n",
      "j 1\n",
      "res 5\n",
      "vol [1, 2, 3, 4, 5, 6, 7, 8, 0, 6, 4, 15, 16, 40, 18, 49, 6, 0, 2, 10, 12, 24, 15, 36, 4, 2, 0, 2, 4, 6, 8, 10, 15]\n",
      "j 2\n",
      "res 5\n",
      "vol [1, 2, 3, 4, 5, 6, 7, 8, 0, 6, 4, 15, 16, 40, 18, 49, 6, 0, 2, 10, 12, 24, 15, 36, 4, 2, 0, 2, 4, 6, 8, 10, 15, 10]\n",
      "j 3\n",
      "res 2\n",
      "vol [1, 2, 3, 4, 5, 6, 7, 8, 0, 6, 4, 15, 16, 40, 18, 49, 6, 0, 2, 10, 12, 24, 15, 36, 4, 2, 0, 2, 4, 6, 8, 10, 15, 10, 2]\n",
      "j 4\n",
      "res 5\n",
      "vol [1, 2, 3, 4, 5, 6, 7, 8, 0, 6, 4, 15, 16, 40, 18, 49, 6, 0, 2, 10, 12, 24, 15, 36, 4, 2, 0, 2, 4, 6, 8, 10, 15, 10, 2, 0]\n",
      "j 5\n",
      "res 4\n",
      "vol [1, 2, 3, 4, 5, 6, 7, 8, 0, 6, 4, 15, 16, 40, 18, 49, 6, 0, 2, 10, 12, 24, 15, 36, 4, 2, 0, 2, 4, 6, 8, 10, 15, 10, 2, 0, 4]\n",
      "j 6\n",
      "res 5\n",
      "vol [1, 2, 3, 4, 5, 6, 7, 8, 0, 6, 4, 15, 16, 40, 18, 49, 6, 0, 2, 10, 12, 24, 15, 36, 4, 2, 0, 2, 4, 6, 8, 10, 15, 10, 2, 0, 4, 10]\n",
      "j 7\n",
      "res 3\n",
      "vol [1, 2, 3, 4, 5, 6, 7, 8, 0, 6, 4, 15, 16, 40, 18, 49, 6, 0, 2, 10, 12, 24, 15, 36, 4, 2, 0, 2, 4, 6, 8, 10, 15, 10, 2, 0, 4, 10, 9]\n",
      "j 8\n",
      "res 5\n",
      "vol [1, 2, 3, 4, 5, 6, 7, 8, 0, 6, 4, 15, 16, 40, 18, 49, 6, 0, 2, 10, 12, 24, 15, 36, 4, 2, 0, 2, 4, 6, 8, 10, 15, 10, 2, 0, 4, 10, 9, 20]\n",
      "i 5\n",
      "j 1\n",
      "res 4\n",
      "vol [1, 2, 3, 4, 5, 6, 7, 8, 0, 6, 4, 15, 16, 40, 18, 49, 6, 0, 2, 10, 12, 24, 15, 36, 4, 2, 0, 2, 4, 6, 8, 10, 15, 10, 2, 0, 4, 10, 9, 20, 16]\n",
      "j 2\n",
      "res 4\n",
      "vol [1, 2, 3, 4, 5, 6, 7, 8, 0, 6, 4, 15, 16, 40, 18, 49, 6, 0, 2, 10, 12, 24, 15, 36, 4, 2, 0, 2, 4, 6, 8, 10, 15, 10, 2, 0, 4, 10, 9, 20, 16, 12]\n",
      "j 3\n",
      "res 2\n",
      "vol [1, 2, 3, 4, 5, 6, 7, 8, 0, 6, 4, 15, 16, 40, 18, 49, 6, 0, 2, 10, 12, 24, 15, 36, 4, 2, 0, 2, 4, 6, 8, 10, 15, 10, 2, 0, 4, 10, 9, 20, 16, 12, 4]\n",
      "j 4\n",
      "res 4\n",
      "vol [1, 2, 3, 4, 5, 6, 7, 8, 0, 6, 4, 15, 16, 40, 18, 49, 6, 0, 2, 10, 12, 24, 15, 36, 4, 2, 0, 2, 4, 6, 8, 10, 15, 10, 2, 0, 4, 10, 9, 20, 16, 12, 4, 4]\n",
      "j 5\n",
      "res 4\n",
      "vol [1, 2, 3, 4, 5, 6, 7, 8, 0, 6, 4, 15, 16, 40, 18, 49, 6, 0, 2, 10, 12, 24, 15, 36, 4, 2, 0, 2, 4, 6, 8, 10, 15, 10, 2, 0, 4, 10, 9, 20, 16, 12, 4, 4, 0]\n",
      "j 6\n",
      "res 4\n",
      "vol [1, 2, 3, 4, 5, 6, 7, 8, 0, 6, 4, 15, 16, 40, 18, 49, 6, 0, 2, 10, 12, 24, 15, 36, 4, 2, 0, 2, 4, 6, 8, 10, 15, 10, 2, 0, 4, 10, 9, 20, 16, 12, 4, 4, 0, 4]\n",
      "j 7\n",
      "res 3\n",
      "vol [1, 2, 3, 4, 5, 6, 7, 8, 0, 6, 4, 15, 16, 40, 18, 49, 6, 0, 2, 10, 12, 24, 15, 36, 4, 2, 0, 2, 4, 6, 8, 10, 15, 10, 2, 0, 4, 10, 9, 20, 16, 12, 4, 4, 0, 4, 6]\n",
      "j 8\n",
      "res 4\n",
      "vol [1, 2, 3, 4, 5, 6, 7, 8, 0, 6, 4, 15, 16, 40, 18, 49, 6, 0, 2, 10, 12, 24, 15, 36, 4, 2, 0, 2, 4, 6, 8, 10, 15, 10, 2, 0, 4, 10, 9, 20, 16, 12, 4, 4, 0, 4, 6, 12]\n",
      "i 6\n",
      "j 1\n",
      "res 8\n",
      "vol [1, 2, 3, 4, 5, 6, 7, 8, 0, 6, 4, 15, 16, 40, 18, 49, 6, 0, 2, 10, 12, 24, 15, 36, 4, 2, 0, 2, 4, 6, 8, 10, 15, 10, 2, 0, 4, 10, 9, 20, 16, 12, 4, 4, 0, 4, 6, 12, 40]\n",
      "j 2\n",
      "res 6\n",
      "vol [1, 2, 3, 4, 5, 6, 7, 8, 0, 6, 4, 15, 16, 40, 18, 49, 6, 0, 2, 10, 12, 24, 15, 36, 4, 2, 0, 2, 4, 6, 8, 10, 15, 10, 2, 0, 4, 10, 9, 20, 16, 12, 4, 4, 0, 4, 6, 12, 40, 24]\n",
      "j 3\n",
      "res 2\n",
      "vol [1, 2, 3, 4, 5, 6, 7, 8, 0, 6, 4, 15, 16, 40, 18, 49, 6, 0, 2, 10, 12, 24, 15, 36, 4, 2, 0, 2, 4, 6, 8, 10, 15, 10, 2, 0, 4, 10, 9, 20, 16, 12, 4, 4, 0, 4, 6, 12, 40, 24, 6]\n",
      "j 4\n",
      "res 5\n",
      "vol [1, 2, 3, 4, 5, 6, 7, 8, 0, 6, 4, 15, 16, 40, 18, 49, 6, 0, 2, 10, 12, 24, 15, 36, 4, 2, 0, 2, 4, 6, 8, 10, 15, 10, 2, 0, 4, 10, 9, 20, 16, 12, 4, 4, 0, 4, 6, 12, 40, 24, 6, 10]\n",
      "j 5\n",
      "res 4\n",
      "vol [1, 2, 3, 4, 5, 6, 7, 8, 0, 6, 4, 15, 16, 40, 18, 49, 6, 0, 2, 10, 12, 24, 15, 36, 4, 2, 0, 2, 4, 6, 8, 10, 15, 10, 2, 0, 4, 10, 9, 20, 16, 12, 4, 4, 0, 4, 6, 12, 40, 24, 6, 10, 4]\n",
      "j 6\n",
      "res 8\n",
      "vol [1, 2, 3, 4, 5, 6, 7, 8, 0, 6, 4, 15, 16, 40, 18, 49, 6, 0, 2, 10, 12, 24, 15, 36, 4, 2, 0, 2, 4, 6, 8, 10, 15, 10, 2, 0, 4, 10, 9, 20, 16, 12, 4, 4, 0, 4, 6, 12, 40, 24, 6, 10, 4, 0]\n",
      "j 7\n",
      "res 3\n",
      "vol [1, 2, 3, 4, 5, 6, 7, 8, 0, 6, 4, 15, 16, 40, 18, 49, 6, 0, 2, 10, 12, 24, 15, 36, 4, 2, 0, 2, 4, 6, 8, 10, 15, 10, 2, 0, 4, 10, 9, 20, 16, 12, 4, 4, 0, 4, 6, 12, 40, 24, 6, 10, 4, 0, 3]\n",
      "j 8\n",
      "res 7\n",
      "vol [1, 2, 3, 4, 5, 6, 7, 8, 0, 6, 4, 15, 16, 40, 18, 49, 6, 0, 2, 10, 12, 24, 15, 36, 4, 2, 0, 2, 4, 6, 8, 10, 15, 10, 2, 0, 4, 10, 9, 20, 16, 12, 4, 4, 0, 4, 6, 12, 40, 24, 6, 10, 4, 0, 3, 14]\n",
      "i 7\n",
      "j 1\n",
      "res 3\n",
      "vol [1, 2, 3, 4, 5, 6, 7, 8, 0, 6, 4, 15, 16, 40, 18, 49, 6, 0, 2, 10, 12, 24, 15, 36, 4, 2, 0, 2, 4, 6, 8, 10, 15, 10, 2, 0, 4, 10, 9, 20, 16, 12, 4, 4, 0, 4, 6, 12, 40, 24, 6, 10, 4, 0, 3, 14, 18]\n",
      "j 2\n",
      "res 3\n",
      "vol [1, 2, 3, 4, 5, 6, 7, 8, 0, 6, 4, 15, 16, 40, 18, 49, 6, 0, 2, 10, 12, 24, 15, 36, 4, 2, 0, 2, 4, 6, 8, 10, 15, 10, 2, 0, 4, 10, 9, 20, 16, 12, 4, 4, 0, 4, 6, 12, 40, 24, 6, 10, 4, 0, 3, 14, 18, 15]\n",
      "j 3\n",
      "res 2\n",
      "vol [1, 2, 3, 4, 5, 6, 7, 8, 0, 6, 4, 15, 16, 40, 18, 49, 6, 0, 2, 10, 12, 24, 15, 36, 4, 2, 0, 2, 4, 6, 8, 10, 15, 10, 2, 0, 4, 10, 9, 20, 16, 12, 4, 4, 0, 4, 6, 12, 40, 24, 6, 10, 4, 0, 3, 14, 18, 15, 8]\n",
      "j 4\n",
      "res 3\n",
      "vol [1, 2, 3, 4, 5, 6, 7, 8, 0, 6, 4, 15, 16, 40, 18, 49, 6, 0, 2, 10, 12, 24, 15, 36, 4, 2, 0, 2, 4, 6, 8, 10, 15, 10, 2, 0, 4, 10, 9, 20, 16, 12, 4, 4, 0, 4, 6, 12, 40, 24, 6, 10, 4, 0, 3, 14, 18, 15, 8, 9]\n",
      "j 5\n",
      "res 3\n",
      "vol [1, 2, 3, 4, 5, 6, 7, 8, 0, 6, 4, 15, 16, 40, 18, 49, 6, 0, 2, 10, 12, 24, 15, 36, 4, 2, 0, 2, 4, 6, 8, 10, 15, 10, 2, 0, 4, 10, 9, 20, 16, 12, 4, 4, 0, 4, 6, 12, 40, 24, 6, 10, 4, 0, 3, 14, 18, 15, 8, 9, 6]\n",
      "j 6\n",
      "res 3\n",
      "vol [1, 2, 3, 4, 5, 6, 7, 8, 0, 6, 4, 15, 16, 40, 18, 49, 6, 0, 2, 10, 12, 24, 15, 36, 4, 2, 0, 2, 4, 6, 8, 10, 15, 10, 2, 0, 4, 10, 9, 20, 16, 12, 4, 4, 0, 4, 6, 12, 40, 24, 6, 10, 4, 0, 3, 14, 18, 15, 8, 9, 6, 3]\n",
      "j 7\n",
      "res 3\n",
      "vol [1, 2, 3, 4, 5, 6, 7, 8, 0, 6, 4, 15, 16, 40, 18, 49, 6, 0, 2, 10, 12, 24, 15, 36, 4, 2, 0, 2, 4, 6, 8, 10, 15, 10, 2, 0, 4, 10, 9, 20, 16, 12, 4, 4, 0, 4, 6, 12, 40, 24, 6, 10, 4, 0, 3, 14, 18, 15, 8, 9, 6, 3, 0]\n",
      "j 8\n",
      "res 3\n",
      "vol [1, 2, 3, 4, 5, 6, 7, 8, 0, 6, 4, 15, 16, 40, 18, 49, 6, 0, 2, 10, 12, 24, 15, 36, 4, 2, 0, 2, 4, 6, 8, 10, 15, 10, 2, 0, 4, 10, 9, 20, 16, 12, 4, 4, 0, 4, 6, 12, 40, 24, 6, 10, 4, 0, 3, 14, 18, 15, 8, 9, 6, 3, 0, 3]\n"
     ]
    },
    {
     "data": {
      "text/plain": [
       "49"
      ]
     },
     "execution_count": 7,
     "metadata": {},
     "output_type": "execute_result"
    }
   ],
   "source": [
    "def maxArea(height: list[int]) -> int:\n",
    "    vol = []\n",
    "    for i in range(0,len(height)-1):\n",
    "        print(\"i\", i)\n",
    "        for j in range(1,len(height)):\n",
    "            print(\"j\", j)\n",
    "            res = min(height[i],height[j])\n",
    "            print(\"res\" ,res)\n",
    "            vol.append(res*abs(j-i))\n",
    "            print(\"vol\" , vol)\n",
    "    return max(vol)\n",
    "\n",
    "maxArea([1,8,6,2,5,4,8,3,7])"
   ]
  },
  {
   "cell_type": "code",
   "execution_count": 5,
   "metadata": {},
   "outputs": [
    {
     "name": "stdout",
     "output_type": "stream",
     "text": [
      "0\n",
      "1\n",
      "2\n",
      "3\n"
     ]
    }
   ],
   "source": [
    "def maxArea(height: list[int]) -> int:\n",
    "    i = 0\n",
    "    j = len(height)-1\n",
    "    curarea = 0\n",
    "    maxarea = min(height[i],height[j])*(j-1)\n",
    "    while(i<j):\n",
    "        if(height[i]<height[j]):\n",
    "            i = i+1\n",
    "        elif(height[i]>height[j])\n",
    "        if(maxarea<curarea):\n",
    "            maxarea = curarea\n",
    "        \n"
   ]
  },
  {
   "cell_type": "code",
   "execution_count": 8,
   "metadata": {},
   "outputs": [],
   "source": [
    "class Solution:\n",
    "    def maxArea(height: list[int]) -> int:\n",
    "        maxA,L,R = 0,0,len(height)-1\n",
    "        while R>L:\n",
    "            lP,rP=height[L],height[R]\n",
    "            maxA = max(maxA,min(rP,lP)*(R-L))\n",
    "            if rP>lP : L+=1\n",
    "            else : R-=1\n",
    "        return maxA"
   ]
  },
  {
   "cell_type": "code",
   "execution_count": 10,
   "metadata": {},
   "outputs": [
    {
     "name": "stdout",
     "output_type": "stream",
     "text": [
      "5\n",
      "8\n",
      "9\n",
      "9\n",
      "9\n"
     ]
    },
    {
     "data": {
      "text/plain": [
       "9"
      ]
     },
     "execution_count": 10,
     "metadata": {},
     "output_type": "execute_result"
    }
   ],
   "source": [
    "def maxArea(height : list[int]) -> int:\n",
    "    maxarea = 0\n",
    "    l = 0\n",
    "    r = len(height)-1\n",
    "\n",
    "    while(l<r):\n",
    "        lval = height[l]\n",
    "        rval = height[r]\n",
    "        maxarea = max(maxarea,min(lval,rval)*(r-l))\n",
    "        print(maxarea)\n",
    "        if(lval < rval):\n",
    "            l += 1\n",
    "        else:\n",
    "            r -= 1\n",
    "    return maxarea\n",
    "\n",
    "maxArea([1,2,3,4,5,6])"
   ]
  },
  {
   "cell_type": "code",
   "execution_count": 19,
   "metadata": {},
   "outputs": [
    {
     "name": "stdout",
     "output_type": "stream",
     "text": [
      "[1, 2, 3, 2, 3, 3]\n"
     ]
    }
   ],
   "source": [
    "nums = [1,1,1,2,3,3]\n",
    "length = len(nums)\n",
    "j = 1\n",
    "for i in range(0,length-1):\n",
    "    if(nums[i] != nums[i+1]):\n",
    "        nums[j] = nums[i+1]\n",
    "        j += 1\n",
    "\n",
    "print(nums)\n"
   ]
  },
  {
   "cell_type": "code",
   "execution_count": 6,
   "metadata": {},
   "outputs": [
    {
     "name": "stdout",
     "output_type": "stream",
     "text": [
      "[0, 1, 3, 0, 4, 2, 9, 9]\n"
     ]
    }
   ],
   "source": [
    "def removeElement(nums : list[int], target : int):\n",
    "    for i in range(0,len(nums)):\n",
    "        if nums[i] == target:\n",
    "            nums.remove(target)\n",
    "            nums.append(9)\n",
    "    return nums\n",
    "\n",
    "numbers = removeElement([0,1,2,2,3,0,4,2],2)\n",
    "print(numbers)"
   ]
  },
  {
   "cell_type": "code",
   "execution_count": 24,
   "metadata": {},
   "outputs": [
    {
     "name": "stdout",
     "output_type": "stream",
     "text": [
      "2\n",
      "[1, 2, 4, 3, 2, None]\n"
     ]
    }
   ],
   "source": [
    "nums = [1,2,3,4,3,2]\n",
    "res = nums.index(3)\n",
    "print(res)\n",
    "nums.remove(3)\n",
    "nums.append(None)\n",
    "print(nums)"
   ]
  },
  {
   "cell_type": "code",
   "execution_count": 5,
   "metadata": {},
   "outputs": [
    {
     "name": "stdout",
     "output_type": "stream",
     "text": [
      "[2, 2]\n"
     ]
    }
   ],
   "source": [
    "\n",
    "def removeElement(nums: list[int], val: int) -> int:\n",
    "    nums[:] = [n for n in nums if n != val]\n",
    "    print(nums)\n",
    "\n",
    "removeElement([3,2,2,3],3)"
   ]
  },
  {
   "cell_type": "code",
   "execution_count": 4,
   "metadata": {},
   "outputs": [
    {
     "name": "stdout",
     "output_type": "stream",
     "text": [
      "Person Simran is 21 years old\n"
     ]
    }
   ],
   "source": [
    "class Student:\n",
    "    def __init__(self):\n",
    "        self.name = \"Simran\"\n",
    "        self.age = 21\n",
    "\n",
    "    def __str__(self):\n",
    "        return f'Person {self.name} is {self.age} years old'\n",
    "\n",
    "stud = Student()\n",
    "print(stud)"
   ]
  },
  {
   "cell_type": "code",
   "execution_count": 40,
   "metadata": {},
   "outputs": [
    {
     "name": "stdout",
     "output_type": "stream",
     "text": [
      "[{'name': 'cream', 'price': 50}, {'name': 'comb', 'price': 30}, {'name': 'clove', 'price': 20}]\n",
      "100\n"
     ]
    }
   ],
   "source": [
    "items = []\n",
    "def add_item(name, price):\n",
    "    dic = {'name' : name, 'price' : price}\n",
    "    items.append(dic)\n",
    "\n",
    "add_item('cream', 50)\n",
    "add_item('comb', 30)\n",
    "add_item('clove', 20)\n",
    "\n",
    "print(items)\n",
    "total_values = 0\n",
    "for item in items:\n",
    "    total_values += item['price']\n",
    "\n",
    "print(total_values)\n"
   ]
  },
  {
   "cell_type": "code",
   "execution_count": 20,
   "metadata": {},
   "outputs": [
    {
     "data": {
      "text/plain": [
       "100"
      ]
     },
     "execution_count": 20,
     "metadata": {},
     "output_type": "execute_result"
    }
   ],
   "source": [
    "dic = {'cream' : 50, 'comb' : 30, 'clove' : 20}\n",
    "sum(dic.values())"
   ]
  },
  {
   "cell_type": "code",
   "execution_count": 42,
   "metadata": {},
   "outputs": [
    {
     "ename": "NameError",
     "evalue": "name 'hello' is not defined",
     "output_type": "error",
     "traceback": [
      "\u001b[1;31m---------------------------------------------------------------------------\u001b[0m",
      "\u001b[1;31mNameError\u001b[0m                                 Traceback (most recent call last)",
      "\u001b[1;32mc:\\Users\\simran.maurya\\Desktop\\DS_Foundation\\Python\\practice.ipynb Cell 14\u001b[0m in \u001b[0;36m<cell line: 1>\u001b[1;34m()\u001b[0m\n\u001b[1;32m----> <a href='vscode-notebook-cell:/c%3A/Users/simran.maurya/Desktop/DS_Foundation/Python/practice.ipynb#X20sZmlsZQ%3D%3D?line=0'>1</a>\u001b[0m hello()\n",
      "\u001b[1;31mNameError\u001b[0m: name 'hello' is not defined"
     ]
    }
   ],
   "source": [
    "# int[] nums = [...]; // Input array\n",
    "# int val = ...; // Value to remove\n",
    "# int[] expectedNums = [...]; // The expected answer with correct length.\n",
    "#                             // It is sorted with no values equaling val.\n",
    "\n",
    "# int k = removeElement(nums, val); // Calls your implementation\n",
    "\n",
    "# assert k == expectedNums.length;\n",
    "# sort(nums, 0, k); // Sort the first k elements of nums\n",
    "# for (int i = 0; i < actualLength; i++) {\n",
    "#     assert nums[i] == expectedNums[i];\n",
    "\n",
    "# // [0,1,2,2,3,0,4,2], 2\n",
    "# // [0,1,4,0,3]"
   ]
  },
  {
   "cell_type": "code",
   "execution_count": 4,
   "metadata": {},
   "outputs": [
    {
     "name": "stdout",
     "output_type": "stream",
     "text": [
      "[1, 2, 3, '']\n"
     ]
    }
   ],
   "source": [
    "nums = [1,2,3]\n",
    "nums.append(_)\n",
    "print(nums)"
   ]
  },
  {
   "cell_type": "code",
   "execution_count": null,
   "metadata": {},
   "outputs": [],
   "source": [
    "        count = 0\n",
    "        for i in range(0,len(nums)):\n",
    "            if nums[i] == val:\n",
    "                nums.remove(val)\n",
    "                nums.append(99999)\n",
    "                count += 1\n",
    "        print(nums)\n",
    "        print(len(nums))\n",
    "        print(count)\n",
    "        return count\n",
    "\n",
    "        count=0\n",
    "        n=len(nums)\n",
    "        while(True):\n",
    "            try:\n",
    "                nums.remove(val)\n",
    "                count+=1\n",
    "            except:\n",
    "                break\n",
    "        for i in range(count):\n",
    "            nums.append(-1)\n",
    "        return n-count"
   ]
  },
  {
   "cell_type": "code",
   "execution_count": 17,
   "metadata": {},
   "outputs": [
    {
     "name": "stdout",
     "output_type": "stream",
     "text": [
      "[5, 4, 2, 4, 7, 8, 4, 5]\n"
     ]
    }
   ],
   "source": [
    "nums = [4,5,2,4,7,8,4,5]\n",
    "n =len(nums)\n",
    "# res = sorted(nums[3:])\n",
    "# print(res)\n",
    "nums[0],nums[1] = nums[1],nums[0]\n",
    "print(nums)"
   ]
  },
  {
   "cell_type": "code",
   "execution_count": null,
   "metadata": {},
   "outputs": [],
   "source": [
    "def sorting(nums : list[int], key : int):\n",
    "    print(nums,key)\n",
    "\n",
    "def nextPermutation(nums: list[int]) -> None:\n",
    "    i = 0\n",
    "    n = len(nums)\n",
    "    j = n-1 \n",
    "    while(j != 0):\n",
    "        j = n-1\n",
    "        if(nums[j] > nums[j-1]):\n",
    "            nums[j],nums[j-1] = nums[j-1],nums[j]\n",
    "            j = j-1\n",
    "            sorting(nums,j)\n",
    "        else:\n",
    "            j = j-1\n",
    "        \n",
    "nextPermutation([1,2,3,4,5])"
   ]
  },
  {
   "cell_type": "code",
   "execution_count": 23,
   "metadata": {},
   "outputs": [
    {
     "data": {
      "text/plain": [
       "[1, 2, 4, 3, 5]"
      ]
     },
     "execution_count": 23,
     "metadata": {},
     "output_type": "execute_result"
    }
   ],
   "source": [
    "\n",
    "def nextPermutation(nums: list[int]) -> None:\n",
    "    # Find non-increasing suffix\n",
    "    i = x = len(nums) - 1\n",
    "    while i > 0 and nums[i - 1] >= nums[i]:\n",
    "        i -= 1\n",
    "    if i == 0 :\n",
    "        nums.reverse()\n",
    "        return\n",
    "\n",
    "    # Find successor to pivot\n",
    "    while nums[x] <= nums[i - 1]:\n",
    "        x -= 1\n",
    "    # Swap pivot with with successor pivot\n",
    "    nums[i - 1], nums[x] = nums[x], nums[i - 1]\n",
    "\n",
    "    # reverse suffix\n",
    "    nums[i:] = nums[len(nums) - 1: i - 1: - 1]\n",
    "    return nums\n",
    "\n",
    "nextPermutation([1,2,3,5,4])\n"
   ]
  },
  {
   "cell_type": "code",
   "execution_count": 41,
   "metadata": {},
   "outputs": [
    {
     "name": "stdout",
     "output_type": "stream",
     "text": [
      "4\n",
      "[3, 4]\n"
     ]
    }
   ],
   "source": [
    "nums = [1,2,5,4,3]\n",
    "res = min(nums[2:])\n",
    "print(nums.index(res))\n",
    "number = list(reversed(nums[2+1:]))\n",
    "print(number)\n",
    "from operator import concat\n",
    "\n",
    "\n",
    "nums1 = [1,2,3]\n",
    "nums2 = [4,5]\n",
    "\n",
    "num1 = concat(nums1,nums2)\n",
    "print(num1)\n",
    "\n"
   ]
  },
  {
   "cell_type": "code",
   "execution_count": 47,
   "metadata": {},
   "outputs": [
    {
     "name": "stdout",
     "output_type": "stream",
     "text": [
      "2\n",
      "3\n",
      "4\n",
      "[1, 2, 4, 5, 3]\n"
     ]
    }
   ],
   "source": [
    "def nextPermutation(nums: list[int]) -> None:\n",
    "    n = len(nums)-1 \n",
    "    while n>0 and nums[n]<nums[n-1]:\n",
    "        n = n-1\n",
    "    print(n)\n",
    "    res = min(nums[n:])\n",
    "    print(res)\n",
    "    value = nums.index(res)\n",
    "    print(value)\n",
    "    nums[n],nums[res] = nums[res],nums[n]\n",
    "    print(nums)\n",
    "\n",
    "nextPermutation([1,2,5,4,3])"
   ]
  },
  {
   "cell_type": "code",
   "execution_count": 8,
   "metadata": {},
   "outputs": [
    {
     "name": "stdout",
     "output_type": "stream",
     "text": [
      "Book name is Goops,3 quantity of Soft type\n"
     ]
    }
   ],
   "source": [
    "class Book:\n",
    "    Type = (\"Hard\", \"Soft\")\n",
    "\n",
    "    def __init__(self,name=\"ABC\",type=\"Hard\",quantity=1):\n",
    "        self.name = name\n",
    "        self.type = type\n",
    "        self.quantity = quantity\n",
    "\n",
    "    def __repr__(self):\n",
    "        return f\"Book name is {self.name},{self.quantity} quantity of {self.type} type\"\n",
    "\n",
    "book1 = Book(\"Goops\",\"Soft\",3)\n",
    "print(book1)"
   ]
  },
  {
   "cell_type": "code",
   "execution_count": 18,
   "metadata": {},
   "outputs": [
    {
     "name": "stdout",
     "output_type": "stream",
     "text": [
      "tube light cost Rs.50\n",
      "LED light cost Rs.100 with 20 Watts\n",
      "LED lights off\n"
     ]
    }
   ],
   "source": [
    "class Light:\n",
    "    def __init__(self, name, cost):\n",
    "        self.name = name\n",
    "        self.cost = cost\n",
    "        self.on = True\n",
    "\n",
    "    def __str__(self):\n",
    "        return f\"{self.name} light cost Rs.{self.cost}\"\n",
    "\n",
    "    def switch_off(self):\n",
    "        self.on = False\n",
    "        print(\"{} lights off\".format(self.name))\n",
    "\n",
    "\n",
    "class LED(Light):\n",
    "    def __init__(self,name,cost,power):\n",
    "        super().__init__(name,cost)\n",
    "        self.power = power\n",
    "\n",
    "    def __str__(self):\n",
    "        return f\"{super().__str__()} with {self.power} Watts\"\n",
    "\n",
    "\n",
    "tubelight = Light(\"tube\",50)\n",
    "print(tubelight)\n",
    "\n",
    "led = LED(\"LED\",100,20)\n",
    "print(led)\n",
    "led.switch_off()"
   ]
  },
  {
   "cell_type": "code",
   "execution_count": null,
   "metadata": {},
   "outputs": [],
   "source": []
  }
 ],
 "metadata": {
  "kernelspec": {
   "display_name": "Python 3.9.7 ('base')",
   "language": "python",
   "name": "python3"
  },
  "language_info": {
   "codemirror_mode": {
    "name": "ipython",
    "version": 3
   },
   "file_extension": ".py",
   "mimetype": "text/x-python",
   "name": "python",
   "nbconvert_exporter": "python",
   "pygments_lexer": "ipython3",
   "version": "3.9.7"
  },
  "orig_nbformat": 4,
  "vscode": {
   "interpreter": {
    "hash": "9d8ff396f81a71f4d00d41b604a2d0245377c1e2157739de00eb5c2979ed9c90"
   }
  }
 },
 "nbformat": 4,
 "nbformat_minor": 2
}
